{
 "metadata": {
  "kernelspec": {
   "codemirror_mode": {
    "name": "ipython",
    "version": 2
   },
   "display_name": "IPython (Python 2)",
   "language": "python",
   "name": "python2"
  },
  "name": "",
  "signature": "sha256:795c0915c20b3df89a0713050fddadacd5cfd9e1098909ade8491d62ba9b9259"
 },
 "nbformat": 3,
 "nbformat_minor": 0,
 "worksheets": [
  {
   "cells": [
    {
     "cell_type": "heading",
     "level": 1,
     "metadata": {},
     "source": [
      "NbConvert"
     ]
    },
    {
     "cell_type": "heading",
     "level": 2,
     "metadata": {},
     "source": [
      "Command line usage"
     ]
    },
    {
     "cell_type": "markdown",
     "metadata": {},
     "source": [
      "`NbConvert` is the library, and the command line tool that allow to convert from notebook to other formats.\n",
      "It is a technological preview in 1.0 but is already usable and highly configurable.\n",
      "It ships already with many default available formats : `html`, `latex`, `markdown`, `python`, `rst` and  `slides`\n",
      "which are fully base on Jinja templating engine, so writing a converter for your custom format or tweeking the existing \n",
      "one should be extra simple."
     ]
    },
    {
     "cell_type": "markdown",
     "metadata": {},
     "source": [
      "You can invoke nbconvert by doing\n",
      "\n",
      "```bash\n",
      "$ ipython nbconvert <options and arguments>\n",
      "```\n",
      "\n",
      "Call `ipython nbconvert` with the `--help` flag or no aruments to get basic help on how to use it.\n",
      "For more information about configuration use the `--help-all` flag"
     ]
    },
    {
     "cell_type": "heading",
     "level": 3,
     "metadata": {},
     "source": [
      "Basic export"
     ]
    },
    {
     "cell_type": "markdown",
     "metadata": {},
     "source": [
      "We will be converting `Custom Display Logic.ipynb`. \n",
      "Be sure to have runed some of the cells in it to have output otherwise you will only see input in nbconvert.\n",
      "Nbconvert **do not execute the code** in the notebook files, it only converts what is inside."
     ]
    },
    {
     "cell_type": "code",
     "collapsed": false,
     "input": [
      "!ipython nbconvert  'Working With Markdown Cells.ipynb'"
     ],
     "language": "python",
     "metadata": {},
     "outputs": [
      {
       "output_type": "stream",
       "stream": "stdout",
       "text": [
        "[NbConvertApp] Using existing profile dir: u'/home/fperez/.ipython/profile_default'\r\n"
       ]
      },
      {
       "output_type": "stream",
       "stream": "stdout",
       "text": [
        "[NbConvertApp] Converting notebook Working With Markdown Cells.ipynb to html\r\n",
        "[NbConvertApp] Support files will be in Working With Markdown Cells_files/\r\n",
        "[NbConvertApp] Loaded template full.tpl\r\n"
       ]
      },
      {
       "output_type": "stream",
       "stream": "stdout",
       "text": [
        "[NbConvertApp] Writing 194531 bytes to Working With Markdown Cells.html\r\n"
       ]
      }
     ],
     "prompt_number": 1
    },
    {
     "cell_type": "markdown",
     "metadata": {},
     "source": [
      "Html is the default value (that can be configured) , so the verbose form would be "
     ]
    },
    {
     "cell_type": "code",
     "collapsed": false,
     "input": [
      "!ipython nbconvert  --to=html 'Working With Markdown Cells.ipynb'"
     ],
     "language": "python",
     "metadata": {},
     "outputs": [
      {
       "output_type": "stream",
       "stream": "stdout",
       "text": [
        "[NbConvertApp] Using existing profile dir: u'/home/fperez/.ipython/profile_default'\r\n"
       ]
      },
      {
       "output_type": "stream",
       "stream": "stdout",
       "text": [
        "[NbConvertApp] Converting notebook Working With Markdown Cells.ipynb to html\r\n",
        "[NbConvertApp] Support files will be in Working With Markdown Cells_files/\r\n",
        "[NbConvertApp] Loaded template full.tpl\r\n"
       ]
      },
      {
       "output_type": "stream",
       "stream": "stdout",
       "text": [
        "[NbConvertApp] Writing 194531 bytes to Working With Markdown Cells.html\r\n"
       ]
      }
     ],
     "prompt_number": 2
    },
    {
     "cell_type": "markdown",
     "metadata": {},
     "source": [
      "You can also convert to latex, which will take care of extractin the embeded base64 encoded png, or the svg and call inkscape to convert those svg to pdf if necessary :"
     ]
    },
    {
     "cell_type": "code",
     "collapsed": false,
     "input": [
      "!ipython nbconvert  --to=latex 'Working With Markdown Cells.ipynb'"
     ],
     "language": "python",
     "metadata": {},
     "outputs": [
      {
       "output_type": "stream",
       "stream": "stdout",
       "text": [
        "[NbConvertApp] Using existing profile dir: u'/home/fperez/.ipython/profile_default'\r\n",
        "[NbConvertApp] Converting notebook Working With Markdown Cells.ipynb to latex\r\n",
        "[NbConvertApp] Support files will be in Working With Markdown Cells_files/\r\n"
       ]
      },
      {
       "output_type": "stream",
       "stream": "stdout",
       "text": [
        "[NbConvertApp] Loaded template article.tplx\r\n"
       ]
      },
      {
       "output_type": "stream",
       "stream": "stdout",
       "text": [
        "[NbConvertApp] Writing 16660 bytes to Working With Markdown Cells.tex\r\n"
       ]
      }
     ],
     "prompt_number": 3
    },
    {
     "cell_type": "markdown",
     "metadata": {},
     "source": [
      "You should just have to compile the generated `.tex` file. If you get the required packages installed, if should compile out of the box.\n",
      "\n",
      "For convenience we allow to run extra action after the conversion has been done, in particular for `latex` we have a `pdf` post-processor. \n",
      "You can define the postprocessor tu run with the `--post` flag."
     ]
    },
    {
     "cell_type": "code",
     "collapsed": false,
     "input": [
      "!ipython nbconvert  --to=latex 'Working With Markdown Cells.ipynb' --post=pdf"
     ],
     "language": "python",
     "metadata": {},
     "outputs": [
      {
       "output_type": "stream",
       "stream": "stdout",
       "text": [
        "[NbConvertApp] Using existing profile dir: u'/home/fperez/.ipython/profile_default'\r\n",
        "[NbConvertApp] Converting notebook Working With Markdown Cells.ipynb to latex\r\n",
        "[NbConvertApp] Support files will be in Working With Markdown Cells_files/\r\n"
       ]
      },
      {
       "output_type": "stream",
       "stream": "stdout",
       "text": [
        "[NbConvertApp] Loaded template article.tplx\r\n"
       ]
      },
      {
       "output_type": "stream",
       "stream": "stdout",
       "text": [
        "[NbConvertApp] Writing 16660 bytes to Working With Markdown Cells.tex\r\n",
        "[NbConvertApp] Building PDF\r\n",
        "[NbConvertApp] Running pdflatex 3 times: [u'pdflatex', u'Working With Markdown Cells.tex']\r\n"
       ]
      },
      {
       "output_type": "stream",
       "stream": "stdout",
       "text": [
        "[NbConvertApp] Running bibtex 1 time: [u'bibtex', u'Working With Markdown Cells']\r\n"
       ]
      },
      {
       "output_type": "stream",
       "stream": "stdout",
       "text": [
        "[NbConvertApp] WARNING | bibtex had problems, most likely because there were no citations\r\n",
        "[NbConvertApp] Removing temporary LaTeX files\r\n",
        "[NbConvertApp] PDF successfully created\r\n"
       ]
      }
     ],
     "prompt_number": 4
    },
    {
     "cell_type": "markdown",
     "metadata": {},
     "source": [
      "Have a look at `04 - Custom Display Logic.pdf`, toward the end, where we compared `display()` vs `display_html()` and returning the object.\n",
      "See how the cell where we use `display_html` was not able to display the circle, whereas the two other ones were able to select one of the oher representation they know how to display."
     ]
    },
    {
     "cell_type": "heading",
     "level": 3,
     "metadata": {},
     "source": [
      "Customizing template"
     ]
    },
    {
     "cell_type": "markdown",
     "metadata": {},
     "source": [
      "let's look at the first 20 lines of the `python` exporter"
     ]
    },
    {
     "cell_type": "code",
     "collapsed": false,
     "input": [
      "pyfile = !ipython nbconvert --to python 'Working With Markdown Cells.ipynb' --stdout\n",
      "for l in pyfile[20:40]:\n",
      "    print l"
     ],
     "language": "python",
     "metadata": {},
     "outputs": [
      {
       "output_type": "stream",
       "stream": "stdout",
       "text": [
        "#     - Sublist\n",
        "#         - This\n",
        "#   - Sublist\n",
        "#         - That\n",
        "#         - The other thing\n",
        "# * Two\n",
        "#   - Sublist\n",
        "# * Three\n",
        "#   - Sublist\n",
        "# \n",
        "# Now another list:\n",
        "# \n",
        "# 1. Here we go\n",
        "#     1. Sublist\n",
        "#     2. Sublist\n",
        "# 2. There we go\n",
        "# 3. Now this\n",
        "\n",
        "# You can add horizontal rules:\n",
        "# \n"
       ]
      }
     ],
     "prompt_number": 11
    },
    {
     "cell_type": "markdown",
     "metadata": {},
     "source": [
      "We see that the non-code cell are exported to the file. To have a cleaner script, we will export only the code contained in the code cells.\n",
      "\n",
      "To do so, we will inherit the python template, and overwrite the markdown blocks to be empty."
     ]
    },
    {
     "cell_type": "code",
     "collapsed": false,
     "input": [
      "%%writefile simplepython.tpl\n",
      "{% extends 'python.tpl'%}\n",
      "\n",
      "{% block markdowncell -%}\n",
      "{% endblock markdowncell %}\n",
      "\n",
      "## we also want to get rig of header cell\n",
      "{% block headingcell -%}\n",
      "{% endblock headingcell %}\n",
      "\n",
      "## and let's change the appearance of input prompt\n",
      "{% block in_prompt %}\n",
      "# This was input cell with prompt number : {{ cell.prompt_number if cell.prompt_number else ' ' }}\n",
      "{%- endblock in_prompt %}"
     ],
     "language": "python",
     "metadata": {},
     "outputs": [
      {
       "output_type": "stream",
       "stream": "stdout",
       "text": [
        "Writing simplepython.tpl\n"
       ]
      }
     ],
     "prompt_number": 12
    },
    {
     "cell_type": "code",
     "collapsed": false,
     "input": [
      "pyfile = !ipython nbconvert --to python 'Working With Markdown Cells.ipynb' --stdout --template=simplepython.tpl\n",
      "\n",
      "for l in pyfile[4:40]:\n",
      "    print l\n",
      "print '...'"
     ],
     "language": "python",
     "metadata": {},
     "outputs": [
      {
       "output_type": "stream",
       "stream": "stdout",
       "text": [
        "\n",
        "# coding: utf-8\n",
        "...\n"
       ]
      }
     ],
     "prompt_number": 14
    },
    {
     "cell_type": "heading",
     "level": 3,
     "metadata": {},
     "source": [
      "Get rid of all command line flags."
     ]
    },
    {
     "cell_type": "markdown",
     "metadata": {},
     "source": [
      "As of all of IPython nbconvert can be configured using profiles and passing the `--profile` flag. \n",
      "Moreover if a `config.py` file exist in current working directory nbconvert will use that, or read the config file you give to it with the `--config=<file>` flag. \n",
      "\n",
      "In the end, if you are often running nbconvert on the same project, `$ ipython nbconvert` should be enough to get you up and ready."
     ]
    }
   ],
   "metadata": {}
  }
 ]
}