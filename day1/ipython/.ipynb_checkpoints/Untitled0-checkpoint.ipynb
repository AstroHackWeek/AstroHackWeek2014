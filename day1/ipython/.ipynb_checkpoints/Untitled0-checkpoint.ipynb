{
 "metadata": {
  "name": "",
  "signature": "sha256:202ef37201cf28d97358945d6ce118bac01bfe893168b634728094d6bce9c1de"
 },
 "nbformat": 3,
 "nbformat_minor": 0,
 "worksheets": []
}