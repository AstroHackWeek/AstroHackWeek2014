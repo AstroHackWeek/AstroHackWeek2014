{
 "metadata": {
  "kernelspec": {
   "codemirror_mode": {
    "name": "ipython",
    "version": 2
   },
   "display_name": "IPython (Python 2)",
   "language": "python",
   "name": "python2"
  },
  "name": "",
  "signature": "sha256:a86e70037a635480e95510cb5d89fee52a2feeaed9d8bed9e0505c221610b2c0"
 },
 "nbformat": 3,
 "nbformat_minor": 0,
 "worksheets": [
  {
   "cells": [
    {
     "cell_type": "heading",
     "level": 1,
     "metadata": {},
     "source": [
      "IPython: a quick introduction"
     ]
    },
    {
     "cell_type": "markdown",
     "metadata": {},
     "source": [
      "1. [Notebook Basics](Notebook Basics.ipynb)\n",
      "1. [IPython - beyond plain python](Beyond Plain Python.ipynb)\n",
      "1. [Markdown Cells](Working With Markdown Cells.ipynb)\n",
      "1. [Rich Display System](Rich Output.ipynb)\n",
      "1. [Custom Display Logic](Custom Display Logic.ipynb)\n",
      "1. [Introduction to Interactive Javascript Widgets](Using Interact.ipynb)\n",
      "1. [Interactive widgets demo: image copmarisons](ImageCompare.ipynb)\n",
      "1. [Sharing public notebooks](http://nbviewer.ipython.org)\n",
      "1. [Converting notebooks to other formats](Converting Notebooks With nbconvert.ipynb)\n",
      "\n",
      "**Note:** all these materials are shortened versions of the official IPython documentation and example collections, trimmed for brevity.  For additional details, see the original sources linked below."
     ]
    },
    {
     "cell_type": "markdown",
     "metadata": {},
     "source": [
      "## Other useful links\n",
      "\n",
      "* [The main IPython site](http://ipython.org) and [documentation](http://ipython.org/documentation.html).\n",
      "* Our official [example collection](http://nbviewer.ipython.org/github/ipython/ipython/blob/master/examples/Index.ipynb).\n",
      "* [Installation instructions](http://ipython.org/install.html)\n",
      "* Our [gallery of interesting notebooks](https://github.com/ipython/ipython/wiki/A-gallery-of-interesting-IPython-Notebooks#entire-books-or-other-large-collections-of-notebooks-on-a-topic) with examples covering a wide range of topics."
     ]
    }
   ],
   "metadata": {}
  }
 ]
}