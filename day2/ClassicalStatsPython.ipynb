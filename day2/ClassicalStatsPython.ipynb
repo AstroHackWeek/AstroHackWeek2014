{
 "metadata": {
  "name": "",
  "signature": "sha256:6455306a90b05a7f5d07135c4ef55ff649b7b325370c37b5e189edae593fc647"
 },
 "nbformat": 3,
 "nbformat_minor": 0,
 "worksheets": [
  {
   "cells": [
    {
     "cell_type": "heading",
     "level": 1,
     "metadata": {},
     "source": [
      "Classical Statistics Exercises"
     ]
    },
    {
     "cell_type": "markdown",
     "metadata": {},
     "source": [
      "Here are some quick and easy descriptions on how to do basic classical statistics stuff in python. "
     ]
    },
    {
     "cell_type": "heading",
     "level": 2,
     "metadata": {},
     "source": [
      "Simple Representations of Data"
     ]
    },
    {
     "cell_type": "markdown",
     "metadata": {},
     "source": [
      "On the simplest level, any data set can be represented very simply with just a few numbers : mean, median, variance are among the most popular ones, but the \"best\" representation depends on the problem at hand. Also popular are quantiles: these measure the point where the cumulative distribution function takes a given quantile value (this is also the point up to which the probability density function integrates to that quantile).\n",
      "\n",
      "Most of those are really easy to do in python:"
     ]
    },
    {
     "cell_type": "code",
     "collapsed": false,
     "input": [
      "import numpy as np\n",
      "from pylab import *\n",
      "### First, make some data\n",
      "s = 10 ## size of the sample\n",
      "\n",
      "## create s random normally distributed numbers with a mean of 2 and a standard deviation of 2\n",
      "sample = np.random.normal(2,2, size=s) \n",
      "#sample = np.random.chisquare(4, size=s)\n",
      "#sample = np.random.poisson(20, size=s)\n",
      "mn = np.mean(sample)\n",
      "md = np.median(sample)\n",
      "vr = np.var(sample)\n",
      "st = np.std(sample)\n",
      "\n",
      "## import quantiles from scipy\n",
      "from scipy.stats.mstats import mquantiles as quantiles\n",
      "\n",
      "## a popular choice are the 0.25, 0.5 and 0.75 quantiles\n",
      "qn = quantiles(sample, [0.25, 0.5, 0.75])\n",
      "\n",
      "## print results\n",
      "print(\"The sample mean is is: %.4f\"%mn)\n",
      "print(\"The sample median should be similar (for a symmetric distribution): %.4f\"%md)\n",
      "print(\"The sample variance is: %.4f\"%vr)\n",
      "print(\"The sample standard deviation should be sqrt(variance): %.4f\"%st)\n",
      "print(\"The 0.25 quantile is : %.4f\"%qn[0])\n",
      "print(\"The 0.5 quantile should be the same as the median: %.4f\"%qn[1])\n",
      "print(\"The 0.25 quantile is : %.4f\"%qn[0])\n"
     ],
     "language": "python",
     "metadata": {},
     "outputs": [
      {
       "output_type": "stream",
       "stream": "stdout",
       "text": [
        "The sample mean is is: 2.3873\n",
        "The sample median should be similar (for a symmetric distribution): 2.3434\n",
        "The sample variance is: 1.4208\n",
        "The sample standard deviation should be sqrt(variance): 1.1920\n",
        "The 0.25 quantile is : 1.3823\n",
        "The 0.5 quantile should be the same as the median: 2.3434\n",
        "The 0.25 quantile is : 1.3823\n"
       ]
      }
     ],
     "prompt_number": 5
    },
    {
     "cell_type": "markdown",
     "metadata": {},
     "source": [
      "I invite you to play around with the sample size $s$ and see how much the (accuracy of the) values of the various statistics change(s). Plotting the distributions can be useful. Also, I've implemented two alternative distributions for you to play around with: a chi-square distribution and a Poisson distribution (note that the Poisson distribution is discrete!)."
     ]
    },
    {
     "cell_type": "markdown",
     "metadata": {},
     "source": []
    },
    {
     "cell_type": "heading",
     "level": 2,
     "metadata": {},
     "source": [
      "Statistical Distributions in Numpy and Scipy"
     ]
    },
    {
     "cell_type": "markdown",
     "metadata": {},
     "source": [
      "Both numpy and scipy have many of the most useful standard distributions already in their code base. You've already seen above how to quickly and easily make random numbers in numpy. If that's all you want (and this can be incredibly powerful for producing simulated data), you're good to go. \n",
      "\n",
      "However, scipy can do more. In scipy.stats, there are classes for many distributions, which have methods that can do a whole lot more than just produce random numbers for you! \n",
      "For example, to produce an instance of a normal distribution with \"frozen\" parameters (mean=2, standard deviation=2 here), goes like this:"
     ]
    },
    {
     "cell_type": "code",
     "collapsed": false,
     "input": [
      "import scipy.stats\n",
      "n = scipy.stats.norm(2, 4)"
     ],
     "language": "python",
     "metadata": {},
     "outputs": [],
     "prompt_number": 3
    },
    {
     "cell_type": "markdown",
     "metadata": {},
     "source": [
      "You can now use this distribution in various ways. For example, to plot the pdf and cdf, you can do this:"
     ]
    },
    {
     "cell_type": "code",
     "collapsed": false,
     "input": [
      "## define some x coordinates\n",
      "x = np.linspace(-10, 20, 2000)\n",
      "\n",
      "## make a figure\n",
      "fig = figure(figsize=(12,6))\n",
      "ax = fig.add_subplot(121)\n",
      "plot(x, n.pdf(x))\n",
      "ax.set_title(\"PDF\")\n",
      "\n",
      "ax2 = fig.add_subplot(122)\n",
      "plot(x, n.cdf(x))\n",
      "ax.set_title(\"CDF\")\n",
      "\n",
      "savefig(\"normaldist_pdfcdf.pdf\", format=\"pdf\")\n",
      "close()"
     ],
     "language": "python",
     "metadata": {},
     "outputs": [
      {
       "metadata": {},
       "output_type": "pyout",
       "prompt_number": 6,
       "text": [
        "<matplotlib.text.Text at 0x10fd5a810>"
       ]
      }
     ],
     "prompt_number": 6
    },
    {
     "cell_type": "markdown",
     "metadata": {},
     "source": [
      "Similarly, it allows you to play around with the mean, median, standard deviation and other moments. \n",
      "\n",
      "Something else that might be useful is the capability of fitting a distribution to a data sample:"
     ]
    },
    {
     "cell_type": "code",
     "collapsed": false,
     "input": [
      "## let's make another sample\n",
      "sample = np.random.normal(2,2,size=1000)\n",
      "\n",
      "## now fit a normal distribution to the sample with the \n",
      "## fit method of the norm class\n",
      "f = scipy.stats.norm.fit(sample)\n",
      "\n",
      "print(\"The fit parameter for the mean of the distribution is: %.4f\"%f[0])\n",
      "print(\"The fit parameter for the standard deviation of the distribution is: %.4f\"%f[1])"
     ],
     "language": "python",
     "metadata": {},
     "outputs": [
      {
       "output_type": "stream",
       "stream": "stdout",
       "text": [
        "The fit parameter for the mean of the distribution is: 2.0241\n",
        "The fit parameter for the standard deviation of the distribution is: 1.9819\n"
       ]
      }
     ],
     "prompt_number": 7
    },
    {
     "cell_type": "markdown",
     "metadata": {},
     "source": [
      "There are many more distributions in scipy.stats. Have a look!"
     ]
    },
    {
     "cell_type": "markdown",
     "metadata": {},
     "source": []
    },
    {
     "cell_type": "heading",
     "level": 2,
     "metadata": {},
     "source": [
      "Likelihood Functions"
     ]
    },
    {
     "cell_type": "markdown",
     "metadata": {},
     "source": [
      "Estimating the best-fit parameters of a distribution is one of the standard problems in astronomy. Numpy and scipy have many different tools for this available already. In the following, we're going to play around with a Poisson likelihood for a while. The Poisson distribution is useful anywhere where you have discrete, rare events. These can be, for example, particle in a detector, car accidents, or other data sets like these. \n",
      "\n",
      "Because likelihood functions can have quite large and small values, we'll work with the log-likelihood without loss of any capabilities in inferring from the data. \n",
      "\n",
      "First, we define the log-likelihood. Then we make some Poisson sample data, with a rate parameter of 5. This could be, for example, a count rate in a photon detector detecting of the order of 5 photons per second. "
     ]
    },
    {
     "cell_type": "code",
     "collapsed": false,
     "input": [
      "def poisson_loglike(rate, data):\n",
      "    ## make rate parameter into array of same length as data:\n",
      "    r = np.ones(len(data))*rate\n",
      "    ## now we can compute the log-likelihood:\n",
      "    llike = -np.sum(r) + np.sum(data*np.log(r))-np.sum(scipy.special.gammaln(data + 1))\n",
      "    return llike\n",
      "\n",
      "\n",
      "sample = np.random.poisson(5, size=10000)"
     ],
     "language": "python",
     "metadata": {},
     "outputs": [],
     "prompt_number": 15
    },
    {
     "cell_type": "markdown",
     "metadata": {},
     "source": [
      "I'll leave it to you to verify that the expression in the definition of the likelihood function is indeed that of the Poisson likelihood for N samples. \n",
      "\n",
      "Now, let's have a look at the shape of the likelihood. We'll use the first 100 events from our sample:"
     ]
    },
    {
     "cell_type": "code",
     "collapsed": false,
     "input": [
      "\n",
      "## return likelihood for sample s for a bunch of guesses\n",
      "def guess_like(s):\n",
      "    guesses = np.arange(100)\n",
      "    like_all = [poison_loglike(g, s) for g in guesses]\n",
      "    return like_all\n",
      "\n",
      "for n in [1, 10, 100, 10000]:\n",
      "    fig = figure()\n",
      "    plot(guesses, guess_like(sample[:n]), color=\"black\", label=\"%i samples\"%n)\n",
      "    savefig(\"likelihoodtest_%isamples.pdf\"%n, format=\"pdf\")\n",
      "    close()\n"
     ],
     "language": "python",
     "metadata": {},
     "outputs": [
      {
       "output_type": "stream",
       "stream": "stderr",
       "text": [
        "-c:5: RuntimeWarning: invalid value encountered in multiply\n"
       ]
      }
     ],
     "prompt_number": 16
    },
    {
     "cell_type": "markdown",
     "metadata": {},
     "source": [
      "As more data points are included, the values close to that from which the data was drawn (here, a rate parameter of 5).\n",
      "\n",
      "Usually, our models are more complex than a simple distribution with one or two parameters. Say you have a spectrum and want to fit a spectral model. You have pretty good data, so you can approximate it with a Gaussian distribution. \n",
      "scipy already gives you the tools you need to do this. scipy.optimize allows you to find the minimum of a given function.\n",
      "For weighted least squares, scipy.optimize.curve_fit will do the trick:"
     ]
    },
    {
     "cell_type": "code",
     "collapsed": false,
     "input": [
      "import scipy.optimize\n",
      "\n",
      "## define a straight line function:\n",
      "def straight(x, a, b):\n",
      "    return x*a + b\n",
      "\n",
      "## x-coordinate\n",
      "x = np.linspace(0, 10, 1000)\n",
      "\n",
      "## some data\n",
      "a = -2\n",
      "b = 3\n",
      "y = straight(x, a, b)\n",
      "\n",
      "## add some random Gaussian noise:\n",
      "data = np.random.normal(0, 2, size=len(x))+y\n",
      "\n",
      "## fit straight line to data:\n",
      "popt, pcov = scipy.optimize.curve_fit(straight, x, data)\n",
      "\n",
      "print(\"Fit straight line data with a=-2, b=3\")\n",
      "print(\"Fitted parameter a is %.3f\"%popt[0])\n",
      "print(\"Fitted parameter b is %.3f\"%popt[1])"
     ],
     "language": "python",
     "metadata": {},
     "outputs": [
      {
       "output_type": "stream",
       "stream": "stdout",
       "text": [
        "Fit straight line data with a=-2, b=3\n",
        "Fitted parameter a is -2.007\n",
        "Fitted parameter b is 3.002\n"
       ]
      }
     ],
     "prompt_number": 17
    },
    {
     "cell_type": "markdown",
     "metadata": {},
     "source": [
      "curve_fit also gives you the covariance matrix, which is really handy, because it allows you to estimate the errors on the parameters you've just derived, by taking the square root of the diagonal of the covariance matrix. Taking the square root will give you the estimated standard deviation on the parameter. "
     ]
    },
    {
     "cell_type": "code",
     "collapsed": false,
     "input": [
      "errors = np.sqrt(np.diag(pcov))\n",
      "print(\"Fitted parameter a with error is %.3f +/- %.3f\"%(popt[0], errors[0]))\n",
      "print(\"Fitted parameter b with error is %.3f +/- %.3f\"%(popt[1], errors[1]))"
     ],
     "language": "python",
     "metadata": {},
     "outputs": [
      {
       "output_type": "stream",
       "stream": "stdout",
       "text": [
        "Fitted parameter a with error is -2.007 +/- 0.023\n",
        "Fitted parameter b with error is 3.002 +/- 0.133\n"
       ]
      }
     ],
     "prompt_number": 18
    },
    {
     "cell_type": "markdown",
     "metadata": {},
     "source": [
      "However, it is also possible to use likelihood functions other than Gaussian ones. In this case, define the log-likelihood explicitly and use one of scipy.optimize's many minimisation routines. Be sure to minimise the *negative* log-likelihood!\n",
      "\n",
      "Recall the Poisson likelihood from earlier. Instead of plotting the log-likelihood and finding the maximum on the plot, we can estimate it by minimising the negative log-likelihood:"
     ]
    },
    {
     "cell_type": "code",
     "collapsed": false,
     "input": [
      "sample = np.random.poisson(5, size=10000)\n",
      "\n",
      "## define the -log-likelihood\n",
      "neg_poisson = lambda r: -poisson_loglike(r, sample)\n",
      "\n",
      "## minimise using Powell's algorithm, starting value for rate parameter is 10\n",
      "popt= scipy.optimize.fmin_powell(neg_poisson, 10, full_output=True)\n",
      "\n",
      "print(\"The fit-parameter for the Poisson rate parameter: %.3f \"%popt[0])\n"
     ],
     "language": "python",
     "metadata": {},
     "outputs": []
    },
    {
     "cell_type": "markdown",
     "metadata": {},
     "source": [
      "There are quite a large range of optimisation routines available in scipy.optimize. All of them have certain strengths and weaknesses. I invite you to have a look in the documentation, and to play around with some of the algorithms to see which works for a given problem. "
     ]
    }
   ],
   "metadata": {}
  }
 ]
}